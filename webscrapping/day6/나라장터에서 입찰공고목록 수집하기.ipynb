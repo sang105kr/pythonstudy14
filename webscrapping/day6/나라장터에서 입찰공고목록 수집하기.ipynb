{
 "cells": [
  {
   "cell_type": "code",
   "execution_count": 184,
   "id": "e5ef3648",
   "metadata": {},
   "outputs": [],
   "source": [
    "from selenium import webdriver # 브라우저 제어\n",
    "from selenium.webdriver.common.by import By # 요소찾는 방법결정\n",
    "from selenium.webdriver.support.ui import Select #Select 박스에서 항목을 선택하기위함\n",
    "from selenium.webdriver.chrome.options import Options # 브라우저 옵션 지정"
   ]
  },
  {
   "cell_type": "code",
   "execution_count": null,
   "id": "6c6ba647",
   "metadata": {},
   "outputs": [],
   "source": [
    "chrome_options = Options()\n",
    "chrome_options.add_experimental_option('detach', True) # 브라우저 종료방지\n",
    "driver = webdriver.Chrome(options=chrome_options)\n",
    "driver.implicitly_wait(10)\n",
    "# 웹사이트 열기\n",
    "driver.get('https://www.g2b.go.kr/')\n",
    "# 브라우저 창 최대화\n",
    "driver.maximize_window()"
   ]
  },
  {
   "cell_type": "code",
   "execution_count": 196,
   "id": "a7572b27",
   "metadata": {},
   "outputs": [],
   "source": [
    "입찰공고목록요소 = driver.find_element(By.CSS_SELECTOR, '#mf_wfm_gnb_wfm_gnbMenu_genDepth1_1_genDepth2_0_genDepth3_0_btn_menuLvl3')\n",
    "driver.execute_script(\"arguments[0].click();\", 입찰공고목록요소)"
   ]
  },
  {
   "cell_type": "code",
   "execution_count": 197,
   "id": "55555fa9",
   "metadata": {},
   "outputs": [],
   "source": [
    "상세조건요소 = driver.find_element(By.CSS_SELECTOR, '#wq_uuid_2797_btnSearchToggle')\n",
    "driver.execute_script(\"arguments[0].click();\", 상세조건요소)"
   ]
  },
  {
   "cell_type": "code",
   "execution_count": 199,
   "id": "ed7f1cd7",
   "metadata": {},
   "outputs": [],
   "source": [
    "공고기관요소 = driver.find_element(By.CSS_SELECTOR, '#mf_wfm_container_tacBidPbancLst_contents_tab2_body_untyGrpGb1_input_0')\n",
    "driver.execute_script(\"arguments[0].click();\", 공고기관요소)\n"
   ]
  },
  {
   "cell_type": "code",
   "execution_count": 200,
   "id": "10bc3698",
   "metadata": {},
   "outputs": [],
   "source": [
    "공고기관명입력요소 = driver.find_element(By.CSS_SELECTOR,'#mf_wfm_container_tacBidPbancLst_contents_tab2_body_ibxDmstNm1')\n",
    "공고기관명입력요소.send_keys('과학기술정보통신부')\n"
   ]
  },
  {
   "cell_type": "code",
   "execution_count": 201,
   "id": "25172023",
   "metadata": {},
   "outputs": [],
   "source": [
    "참가제한지역 = Select(driver.find_element(By.CSS_SELECTOR, '#mf_wfm_container_tacBidPbancLst_contents_tab2_body_sbxOdnLmtLgdngCd'))\n",
    "참가제한지역.select_by_visible_text('부산광역시')"
   ]
  },
  {
   "cell_type": "code",
   "execution_count": 202,
   "id": "f18d9899",
   "metadata": {},
   "outputs": [],
   "source": [
    "검색요소 = driver.find_element(By.CSS_SELECTOR, '#mf_wfm_container_tacBidPbancLst_contents_tab2_body_btnS0004')\n",
    "driver.execute_script(\"arguments[0].click();\", 검색요소)"
   ]
  },
  {
   "cell_type": "code",
   "execution_count": 209,
   "id": "d0b5f44a",
   "metadata": {},
   "outputs": [
    {
     "name": "stdout",
     "output_type": "stream",
     "text": [
      "1\n"
     ]
    }
   ],
   "source": [
    "입찰공고목록 = driver.find_elements(By.CSS_SELECTOR,\"#mf_wfm_container_tacBidPbancLst_contents_tab2_body_gridView1_body_tbody tr:not([style*='display: none;'])\")\n",
    "print(len(입찰공고목록))"
   ]
  },
  {
   "cell_type": "code",
   "execution_count": null,
   "id": "3c5ee32e",
   "metadata": {},
   "outputs": [
    {
     "name": "stdout",
     "output_type": "stream",
     "text": [
      "\n",
      "공고번호 : R25BK00879222-000\n",
      "공고명 : 부산보험회관 팬코일유니트 드레인 배관교체공사\n",
      "추정금액 : \n"
     ]
    }
   ],
   "source": [
    "for 입찰공고 in 입찰공고목록:\n",
    "  공고항목들 = 입찰공고.find_elements(By.TAG_NAME, 'td')\n",
    "  # for 공고항목 in 공고항목들:\n",
    "  #   print(공고항목.text)\n",
    "  공고번호 = 공고항목들[5].text        \n",
    "  공고명요소 = 공고항목들[6]  \n",
    "  공고명 = 공고명요소.text\n",
    "  driver.execute_script(\"arguments[0].click();\", 공고명요소)\n",
    "  \n",
    "  추정금액요소 = driver.find_element(By.XPATH, '/html/body/div[1]/div[3]/div/div[2]/div/div[2]/div[4]/div/div[17]/table/tbody/tr[2]/td[2]/input')\n",
    "  print(추정금액요소.get_attribute('value'))\n",
    "  추정금액 = 추정금액요소.get_attribute('value')\n",
    "  print(f'공고번호 : {공고번호}')\n",
    "  print(f'공고명 : {공고명}')\n",
    "  print(f'추정금액 : {추정금액}')\n",
    "  "
   ]
  },
  {
   "cell_type": "code",
   "execution_count": null,
   "id": "f52d5a01",
   "metadata": {},
   "outputs": [],
   "source": []
  }
 ],
 "metadata": {
  "kernelspec": {
   "display_name": "base",
   "language": "python",
   "name": "python3"
  },
  "language_info": {
   "codemirror_mode": {
    "name": "ipython",
    "version": 3
   },
   "file_extension": ".py",
   "mimetype": "text/x-python",
   "name": "python",
   "nbconvert_exporter": "python",
   "pygments_lexer": "ipython3",
   "version": "3.12.7"
  }
 },
 "nbformat": 4,
 "nbformat_minor": 5
}
