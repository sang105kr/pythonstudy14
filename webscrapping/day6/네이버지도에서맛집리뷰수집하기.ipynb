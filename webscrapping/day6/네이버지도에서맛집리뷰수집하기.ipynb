{
 "cells": [
  {
   "cell_type": "code",
   "execution_count": 2,
   "id": "f9e04247",
   "metadata": {},
   "outputs": [],
   "source": [
    "from selenium import webdriver # 브라우저 제어\n",
    "from selenium.webdriver.common.by import By # 요소찾는 방법결정\n",
    "from selenium.webdriver.support.ui import Select #Select 박스에서 항목을 선택하기위함\n",
    "from selenium.webdriver.chrome.options import Options # 브라우저 옵션 지정"
   ]
  },
  {
   "cell_type": "code",
   "execution_count": 7,
   "id": "acf59c58",
   "metadata": {},
   "outputs": [],
   "source": [
    "# 키보드 조작\n",
    "from selenium.webdriver.common.keys import Keys"
   ]
  },
  {
   "cell_type": "code",
   "execution_count": 3,
   "id": "574cdc46",
   "metadata": {},
   "outputs": [],
   "source": [
    "import time"
   ]
  },
  {
   "cell_type": "code",
   "execution_count": 27,
   "id": "d2d0aa08",
   "metadata": {},
   "outputs": [],
   "source": [
    "chrome_options = Options()\n",
    "chrome_options.add_experimental_option('detach', True) # 브라우저 종료방지\n",
    "driver = webdriver.Chrome(options=chrome_options)\n",
    "\n",
    "# 웹페이지가 로딩될때가지 최대 10초 대기\n",
    "driver.implicitly_wait(3)\n",
    "\n",
    "# 브라우저 창 최대화\n",
    "driver.maximize_window()"
   ]
  },
  {
   "cell_type": "code",
   "execution_count": 28,
   "id": "8db47cef",
   "metadata": {},
   "outputs": [],
   "source": [
    "url = 'https://map.naver.com'\n",
    "# 웹사이트 열기\n",
    "driver.get(url)\n",
    "time.sleep(2)"
   ]
  },
  {
   "cell_type": "code",
   "execution_count": 29,
   "id": "ac504eab",
   "metadata": {},
   "outputs": [],
   "source": [
    "# 검색어 입력\n",
    "keyword = '해운대 맛집'\n",
    "input_search = driver.find_element(By.CSS_SELECTOR, 'input.input_search')\n",
    "input_search.click()\n",
    "input_search.clear()\n",
    "input_search.send_keys('해운대 맛집')\n",
    "input_search.send_keys(Keys.ENTER)"
   ]
  },
  {
   "cell_type": "code",
   "execution_count": 30,
   "id": "c72adc21",
   "metadata": {},
   "outputs": [],
   "source": [
    "# 필터링 (많이 찾는)\n",
    "\n",
    "# 선택한 iframe으로 이동\n",
    "driver.switch_to.frame('searchIframe')\n",
    "\n",
    "# 필터 클릭\n",
    "driver.find_element(By.CSS_SELECTOR, '#app-root .T46Lb.pTP9T.LXtsf').click()\n",
    "time.sleep(0.2)\n",
    "\n",
    "# 많이 찾는 클릭\n",
    "driver.find_element(By.CSS_SELECTOR, '#modal-root .qP6uz.SbSKx').click()\n",
    "time.sleep(0.2)\n",
    "\n",
    "# 검색 버튼 클릭\n",
    "driver.find_element(By.CSS_SELECTOR, '#modal-root .GZe5x.Mj_l3').click()\n",
    "time.sleep(0.2)"
   ]
  },
  {
   "cell_type": "code",
   "execution_count": null,
   "id": "a9f97456",
   "metadata": {},
   "outputs": [
    {
     "name": "stdout",
     "output_type": "stream",
     "text": [
      "30\n",
      "스크롤전:10, 스크롤 후 :70\n",
      "스크롤전:10, 스크롤 후 :80\n",
      "스크롤전:10, 스크롤 후 :80\n"
     ]
    }
   ],
   "source": [
    "# 무한 스크롤\n",
    "\n",
    "# 스크롤 클릭\n",
    "driver.find_element(By.CSS_SELECTOR, '#_pcmap_list_scroll_container').click()\n",
    "\n",
    "# 맛집 목록가져오기\n",
    "lis = driver.find_elements(By.CSS_SELECTOR, '.UEzoS.rTjJo')\n",
    "prev_len = len(lis)\n",
    "print(len(lis))\n",
    "\n",
    "while True :\n",
    "  # 맨 아래 스크롤로 내림\n",
    "  driver.find_element(By.CSS_SELECTOR, 'body').send_keys(Keys.END)\n",
    "  time.sleep(0.5)\n",
    "  \n",
    "  lis = driver.find_elements(By.CSS_SELECTOR, '.UEzoS.rTjJo')\n",
    "  curr_len = len(lis)\n",
    "  \n",
    "  print(f'스크롤전:{prev_len}, 스크롤 후 :{curr_len}')\n",
    "\n",
    "  if curr_len == prev_len :\n",
    "    break\n",
    "  prev_len = curr_len"
   ]
  },
  {
   "cell_type": "code",
   "execution_count": null,
   "id": "5b3f8aaa",
   "metadata": {},
   "outputs": [],
   "source": []
  }
 ],
 "metadata": {
  "kernelspec": {
   "display_name": "base",
   "language": "python",
   "name": "python3"
  },
  "language_info": {
   "codemirror_mode": {
    "name": "ipython",
    "version": 3
   },
   "file_extension": ".py",
   "mimetype": "text/x-python",
   "name": "python",
   "nbconvert_exporter": "python",
   "pygments_lexer": "ipython3",
   "version": "3.12.7"
  }
 },
 "nbformat": 4,
 "nbformat_minor": 5
}
