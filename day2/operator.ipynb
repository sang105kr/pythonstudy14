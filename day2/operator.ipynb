{
 "cells": [
  {
   "cell_type": "code",
   "execution_count": 2,
   "id": "e1160664",
   "metadata": {},
   "outputs": [
    {
     "name": "stdout",
     "output_type": "stream",
     "text": [
      "343\n"
     ]
    }
   ],
   "source": [
    "# 거듭제곱(지주표현)\n",
    "x = 7\n",
    "y = x ** 3\n",
    "print(y)"
   ]
  },
  {
   "cell_type": "code",
   "execution_count": 5,
   "id": "4dbf536c",
   "metadata": {},
   "outputs": [
    {
     "name": "stdout",
     "output_type": "stream",
     "text": [
      "2.3333333333333335 1 2\n"
     ]
    }
   ],
   "source": [
    "x = 7 / 3\n",
    "y = 7 % 3   # 나머지\n",
    "z = 7 // 3  # 몫\n",
    "print(x,y,z)"
   ]
  },
  {
   "cell_type": "code",
   "execution_count": null,
   "id": "379af749",
   "metadata": {},
   "outputs": [
    {
     "ename": "SyntaxError",
     "evalue": "invalid syntax (1877609969.py, line 2)",
     "output_type": "error",
     "traceback": [
      "\u001b[1;36m  Cell \u001b[1;32mIn[6], line 2\u001b[1;36m\u001b[0m\n\u001b[1;33m    x++\u001b[0m\n\u001b[1;37m       ^\u001b[0m\n\u001b[1;31mSyntaxError\u001b[0m\u001b[1;31m:\u001b[0m invalid syntax\n"
     ]
    }
   ],
   "source": [
    "x = 10\n",
    "# x++  증감연산자는 사용불가\n",
    "print(x)"
   ]
  },
  {
   "cell_type": "code",
   "execution_count": 13,
   "id": "7bb7bdb5",
   "metadata": {},
   "outputs": [
    {
     "name": "stdout",
     "output_type": "stream",
     "text": [
      "2 와 3으로 나뉘어지는 수입니다.\n",
      "2 와 3으로 나뉘어지는 수입니다.\n"
     ]
    }
   ],
   "source": [
    "# 2 또는 3의 배수 인지 체크\n",
    "\n",
    "stop = False\n",
    "while not stop :\n",
    "  x = int(input('정수를 입력하세요 : '))\n",
    "  if x == 0 :\n",
    "    stop = True\n",
    "    continue\n",
    "  if x % 2 == 0 and x % 3 == 0 :\n",
    "    print('2 와 3으로 나뉘어지는 수입니다.')\n",
    "    \n",
    "    \n",
    "    "
   ]
  },
  {
   "cell_type": "code",
   "execution_count": null,
   "id": "707f750c",
   "metadata": {},
   "outputs": [
    {
     "name": "stdout",
     "output_type": "stream",
     "text": [
      "[6, 8, 10]\n"
     ]
    }
   ],
   "source": [
    "# 정수를 입력받아서 짝수만 리스트에 저장하는 프로그램을 구현하시오.\n",
    "#  (단, 중복 허용 불가, 멤버십 연산자 사용할것, 0 값을 입력 받으면 리스트 내용을 출력하고 종료)\n",
    "\n",
    "list = []     # 빈 리스트 생성\n",
    "stop = False\n",
    "while(not stop) :\n",
    "  number = int(input('정수 입력 : '))\n",
    "  \n",
    "  #0) 0이면 종료\n",
    "  if number == 0 :\n",
    "    stop = True\n",
    "    continue\n",
    "  \n",
    "  #1) 짝수인지 체크\n",
    "  if number % 2 == 0:\n",
    "    #2) 중복 체크\n",
    "    if number in list:\n",
    "      continue\n",
    "    #3) 리스트에 추가\n",
    "    list.append(number)\n",
    "    \n",
    "print(list)  "
   ]
  },
  {
   "cell_type": "code",
   "execution_count": 1,
   "id": "7f469625",
   "metadata": {},
   "outputs": [
    {
     "name": "stdout",
     "output_type": "stream",
     "text": [
      "{2, 4}\n"
     ]
    }
   ],
   "source": [
    "# dict = {}     # 빈 딕셔너리 객체 생성\n",
    "empty_set = set()     # 빈 셋 객체 생성  \n",
    "stop = False\n",
    "while(not stop) :\n",
    "  number = int(input('정수 입력 : '))\n",
    "  \n",
    "  #0) 0이면 종료\n",
    "  if number == 0 :\n",
    "    stop = True\n",
    "    continue\n",
    "  \n",
    "  #1) 짝수인지 체크\n",
    "  if number % 2 == 0:\n",
    "    #2) 리스트에 추가\n",
    "    empty_set.add(number)\n",
    "    \n",
    "print(empty_set)  "
   ]
  },
  {
   "cell_type": "code",
   "execution_count": null,
   "id": "128edca6",
   "metadata": {},
   "outputs": [
    {
     "name": "stdout",
     "output_type": "stream",
     "text": [
      "True\n",
      "False\n",
      "True\n",
      "--\n",
      "True\n",
      "True\n",
      "False\n"
     ]
    },
    {
     "ename": "",
     "evalue": "",
     "output_type": "error",
     "traceback": [
      "\u001b[1;31mThe Kernel crashed while executing code in the current cell or a previous cell. \n",
      "\u001b[1;31mPlease review the code in the cell(s) to identify a possible cause of the failure. \n",
      "\u001b[1;31mClick <a href='https://aka.ms/vscodeJupyterKernelCrash'>here</a> for more info. \n",
      "\u001b[1;31mView Jupyter <a href='command:jupyter.viewOutput'>log</a> for further details."
     ]
    }
   ],
   "source": [
    "# 두 객체가 동일한지 체크하는 연산자 is, is not\n",
    "# 동일 : 두객체가 동일한 메모리 주소를 참조하는지 확인\n",
    "list_1 = [1,2,3]\n",
    "list_2 = list_1\n",
    "list_3 = [1,2,3]\n",
    "\n",
    "print(list_1 is list_2)\n",
    "print(list_1 is list_3)\n",
    "print(list_1 is not list_3)\n",
    "\n",
    "print('--')\n",
    "# 두 객체가 동등한지 체크하는 연산자 ==  \n",
    "# 동등 : 두 객체의 값이 같은지를 확인\n",
    "print(list_1 == list_2)\n",
    "print(list_1 == list_3)\n",
    "print(list_1 != list_3)\n",
    "\n",
    "\n",
    "\n"
   ]
  },
  {
   "cell_type": "code",
   "execution_count": null,
   "id": "36e83e98",
   "metadata": {},
   "outputs": [],
   "source": []
  }
 ],
 "metadata": {
  "kernelspec": {
   "display_name": "base",
   "language": "python",
   "name": "python3"
  },
  "language_info": {
   "codemirror_mode": {
    "name": "ipython",
    "version": 3
   },
   "file_extension": ".py",
   "mimetype": "text/x-python",
   "name": "python",
   "nbconvert_exporter": "python",
   "pygments_lexer": "ipython3",
   "version": "3.12.7"
  }
 },
 "nbformat": 4,
 "nbformat_minor": 5
}
