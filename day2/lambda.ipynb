{
 "cells": [
  {
   "cell_type": "code",
   "execution_count": 1,
   "id": "1dd93d14",
   "metadata": {},
   "outputs": [],
   "source": [
    "def add(num1, num2):\n",
    "  return num1 + num2"
   ]
  },
  {
   "cell_type": "code",
   "execution_count": 2,
   "id": "90f93f9d",
   "metadata": {},
   "outputs": [
    {
     "name": "stdout",
     "output_type": "stream",
     "text": [
      "30\n"
     ]
    }
   ],
   "source": [
    "print(add(10,20))"
   ]
  },
  {
   "cell_type": "code",
   "execution_count": 25,
   "id": "b9d188b7",
   "metadata": {},
   "outputs": [],
   "source": [
    "add2 = lambda num1, num2 : num1 + num2"
   ]
  },
  {
   "cell_type": "code",
   "execution_count": 6,
   "id": "970f2473",
   "metadata": {},
   "outputs": [
    {
     "data": {
      "text/plain": [
       "2987026556992"
      ]
     },
     "execution_count": 6,
     "metadata": {},
     "output_type": "execute_result"
    }
   ],
   "source": [
    "id(add2)"
   ]
  },
  {
   "cell_type": "code",
   "execution_count": null,
   "id": "63babae2",
   "metadata": {},
   "outputs": [
    {
     "name": "stdout",
     "output_type": "stream",
     "text": [
      "30\n"
     ]
    },
    {
     "ename": "",
     "evalue": "",
     "output_type": "error",
     "traceback": [
      "\u001b[1;31mThe Kernel crashed while executing code in the current cell or a previous cell. \n",
      "\u001b[1;31mPlease review the code in the cell(s) to identify a possible cause of the failure. \n",
      "\u001b[1;31mClick <a href='https://aka.ms/vscodeJupyterKernelCrash'>here</a> for more info. \n",
      "\u001b[1;31mView Jupyter <a href='command:jupyter.viewOutput'>log</a> for further details."
     ]
    }
   ],
   "source": [
    "print(add2(10,20))"
   ]
  },
  {
   "cell_type": "code",
   "execution_count": 8,
   "id": "238d1299",
   "metadata": {},
   "outputs": [],
   "source": [
    "# 2배수 함수 정의\n",
    "def multiplierX2(n):\n",
    "  return n * 2\n"
   ]
  },
  {
   "cell_type": "code",
   "execution_count": 11,
   "id": "8c9caee9",
   "metadata": {},
   "outputs": [
    {
     "name": "stdout",
     "output_type": "stream",
     "text": [
      "20\n",
      "40\n"
     ]
    }
   ],
   "source": [
    "print(multiplierX2(10))\n",
    "print(multiplierX2(20))"
   ]
  },
  {
   "cell_type": "code",
   "execution_count": 12,
   "id": "b58e59e7",
   "metadata": {},
   "outputs": [],
   "source": [
    "# 3배수 함수 정의\n",
    "def multiplierX3(n):\n",
    "  return n * 3"
   ]
  },
  {
   "cell_type": "code",
   "execution_count": 14,
   "id": "d13c919e",
   "metadata": {},
   "outputs": [
    {
     "name": "stdout",
     "output_type": "stream",
     "text": [
      "30\n",
      "60\n"
     ]
    }
   ],
   "source": [
    "print(multiplierX3(10))\n",
    "print(multiplierX3(20))"
   ]
  },
  {
   "cell_type": "code",
   "execution_count": 15,
   "id": "d01ca15b",
   "metadata": {},
   "outputs": [],
   "source": [
    "# n배수 함수 정의\n",
    "def multiplierXn(n):\n",
    "  def multiply(x):\n",
    "    return n * x\n",
    "  return multiply"
   ]
  },
  {
   "cell_type": "code",
   "execution_count": 17,
   "id": "d7d853fe",
   "metadata": {},
   "outputs": [
    {
     "name": "stdout",
     "output_type": "stream",
     "text": [
      "20\n"
     ]
    }
   ],
   "source": [
    "double = multiplierXn(2)\n",
    "print(double(10))"
   ]
  },
  {
   "cell_type": "code",
   "execution_count": 18,
   "id": "c4f5e8c3",
   "metadata": {},
   "outputs": [
    {
     "name": "stdout",
     "output_type": "stream",
     "text": [
      "30\n"
     ]
    }
   ],
   "source": [
    "triple = multiplierXn(3)\n",
    "print(triple(10))"
   ]
  },
  {
   "cell_type": "code",
   "execution_count": 21,
   "id": "ab14b8da",
   "metadata": {},
   "outputs": [
    {
     "name": "stdout",
     "output_type": "stream",
     "text": [
      "20\n",
      "30\n"
     ]
    }
   ],
   "source": [
    "print(multiplierXn(2)(10))\n",
    "print(multiplierXn(3)(10))"
   ]
  },
  {
   "cell_type": "code",
   "execution_count": 22,
   "id": "f9493b44",
   "metadata": {},
   "outputs": [],
   "source": [
    "# def multiplierXn(n):\n",
    "#   def multiply(x):\n",
    "#     return n * x\n",
    "#   return multiply\n",
    "\n",
    "f = lambda n : lambda x : n * x"
   ]
  },
  {
   "cell_type": "code",
   "execution_count": 23,
   "id": "9fb90590",
   "metadata": {},
   "outputs": [],
   "source": [
    "double = f(2)\n",
    "triple = f(3)"
   ]
  },
  {
   "cell_type": "code",
   "execution_count": 24,
   "id": "c76971f2",
   "metadata": {},
   "outputs": [
    {
     "name": "stdout",
     "output_type": "stream",
     "text": [
      "20\n",
      "30\n"
     ]
    }
   ],
   "source": [
    "print(double(10))\n",
    "print(triple(10))"
   ]
  }
 ],
 "metadata": {
  "kernelspec": {
   "display_name": "base",
   "language": "python",
   "name": "python3"
  },
  "language_info": {
   "codemirror_mode": {
    "name": "ipython",
    "version": 3
   },
   "file_extension": ".py",
   "mimetype": "text/x-python",
   "name": "python",
   "nbconvert_exporter": "python",
   "pygments_lexer": "ipython3",
   "version": "3.12.7"
  }
 },
 "nbformat": 4,
 "nbformat_minor": 5
}
