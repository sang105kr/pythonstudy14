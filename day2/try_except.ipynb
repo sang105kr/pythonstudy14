{
 "cells": [
  {
   "cell_type": "code",
   "execution_count": null,
   "id": "50443629",
   "metadata": {},
   "outputs": [],
   "source": [
    "def divide_numbers(num1,num2):\n",
    "  print('계산 전')\n",
    "  result = num1 / num2\n",
    "  print('계산 후')\n",
    "  return result"
   ]
  },
  {
   "cell_type": "code",
   "execution_count": null,
   "id": "33796403",
   "metadata": {},
   "outputs": [],
   "source": [
    "print(divide_numbers(10,2))"
   ]
  },
  {
   "cell_type": "code",
   "execution_count": null,
   "id": "5d553007",
   "metadata": {},
   "outputs": [],
   "source": [
    "while(True):\n",
    "  try:\n",
    "    num1 = int(input('정수1 입력 : '))\n",
    "    num2 = int(input('정수2 입력 : '))\n",
    "  \n",
    "    result = divide_numbers(num1,num2)\n",
    "  except ZeroDivisionError as e:\n",
    "    print('오류 : 0으로 나눌 수 없습니다.')\n",
    "    print(f'예외 정보 : {e}') # 에러 메세지 종류와 관련 메세지를 포함함\n",
    "    print(f'예외 타입 : {type(e)}') # 에러 타입확인\n",
    "    print(e.args)\n",
    "  except ValueError as e:\n",
    "    print('오류 : 숫자만 입력해야 합니다.')  \n",
    "    print(f'예외 정보 : {e}')\n",
    "    print(e.args)    \n",
    "  except Exception as e:     # 상위 오류 타입을 아래로 위치\n",
    "    print('error')    \n",
    "  else:\n",
    "    print('나눗셈 성공!!')                                  \n",
    "    print(result)\n",
    "    continue   \n",
    "  finally: # 예외 발생 유무 상관없이 무조건 수행되는 블럭\n",
    "    print('실행 완료!')\n",
    "    \n",
    " "
   ]
  },
  {
   "cell_type": "code",
   "execution_count": 26,
   "id": "0ba293b4",
   "metadata": {},
   "outputs": [
    {
     "name": "stdout",
     "output_type": "stream",
     "text": [
      "(<class 'ZeroDivisionError'>, <class 'ArithmeticError'>, <class 'Exception'>, <class 'BaseException'>, <class 'object'>)\n",
      "(<class 'ValueError'>, <class 'Exception'>, <class 'BaseException'>, <class 'object'>)\n"
     ]
    }
   ],
   "source": [
    "# 상속구조 확인하기\n",
    "import inspect\n",
    "print(inspect.getmro(ZeroDivisionError))\n",
    "print(inspect.getmro(ValueError))"
   ]
  },
  {
   "cell_type": "code",
   "execution_count": null,
   "id": "c06ea9a5",
   "metadata": {},
   "outputs": [],
   "source": [
    "while(True):\n",
    "  try:\n",
    "    num1 = int(input('정수1 입력 : '))\n",
    "    num2 = int(input('정수2 입력 : '))\n",
    "  \n",
    "    result = divide_numbers(num1,num2)\n",
    "  except Exception as e:\n",
    "    print('잘못된값이 입력되었습니다!')\n",
    "    print(f'예외 정보 : {e}') # 에러 메세지 종류와 관련 메세지를 포함함\n",
    "    print(f'예외 타입 : {type(e)}') # 에러 타입확인\n",
    "    print(e.args)\n",
    "  else:\n",
    "    print('나눗셈 성공!!')                                  \n",
    "    print(result)\n",
    "    continue   \n",
    "  finally: # 예외 발생 유무 상관없이 무조건 수행되는 블럭\n",
    "    print('실행 완료!')"
   ]
  },
  {
   "cell_type": "code",
   "execution_count": 32,
   "id": "2fc02c54",
   "metadata": {},
   "outputs": [],
   "source": [
    "def deposit(money) :\n",
    "  if( money < 0) :\n",
    "    raise Exception('a',money,'음수값을 예치할수 없습니다')\n",
    "  pass"
   ]
  },
  {
   "cell_type": "code",
   "execution_count": null,
   "id": "c62826f4",
   "metadata": {},
   "outputs": [
    {
     "name": "stdout",
     "output_type": "stream",
     "text": [
      "('a', -100, '음수값을 예치할수 없습니다')\n"
     ]
    },
    {
     "ename": "",
     "evalue": "",
     "output_type": "error",
     "traceback": [
      "\u001b[1;31mThe Kernel crashed while executing code in the current cell or a previous cell. \n",
      "\u001b[1;31mPlease review the code in the cell(s) to identify a possible cause of the failure. \n",
      "\u001b[1;31mClick <a href='https://aka.ms/vscodeJupyterKernelCrash'>here</a> for more info. \n",
      "\u001b[1;31mView Jupyter <a href='command:jupyter.viewOutput'>log</a> for further details."
     ]
    }
   ],
   "source": [
    "try:\n",
    "  deposit(-100)\n",
    "except Exception as e:\n",
    "  print(e)  "
   ]
  },
  {
   "cell_type": "code",
   "execution_count": null,
   "id": "55402d68",
   "metadata": {},
   "outputs": [],
   "source": []
  }
 ],
 "metadata": {
  "kernelspec": {
   "display_name": "base",
   "language": "python",
   "name": "python3"
  },
  "language_info": {
   "codemirror_mode": {
    "name": "ipython",
    "version": 3
   },
   "file_extension": ".py",
   "mimetype": "text/x-python",
   "name": "python",
   "nbconvert_exporter": "python",
   "pygments_lexer": "ipython3",
   "version": "3.12.7"
  }
 },
 "nbformat": 4,
 "nbformat_minor": 5
}
