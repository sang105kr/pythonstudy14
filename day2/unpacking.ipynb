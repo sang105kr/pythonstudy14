{
 "cells": [
  {
   "cell_type": "code",
   "execution_count": null,
   "id": "d5fc540a",
   "metadata": {},
   "outputs": [],
   "source": [
    "# 리스트 언팩킹\n",
    "numbers = [1, 2, 3]\n",
    "a, b, c = numbers\n",
    "print(a, b, c) # 출력: 1 2 3\n",
    "\n",
    "\n"
   ]
  },
  {
   "cell_type": "code",
   "execution_count": 4,
   "id": "e38d7513",
   "metadata": {},
   "outputs": [
    {
     "name": "stdout",
     "output_type": "stream",
     "text": [
      "15\n"
     ]
    }
   ],
   "source": [
    "# 함수 인자 전달\n",
    "def add(x, y):\n",
    "  return x + y\n",
    "\n",
    "args = (5, 10)\n",
    "result = add(*args) # 튜플 언팩킹\n",
    "print(result) # 출력: 15"
   ]
  },
  {
   "cell_type": "code",
   "execution_count": null,
   "id": "fabad067",
   "metadata": {},
   "outputs": [
    {
     "name": "stdout",
     "output_type": "stream",
     "text": [
      "Alice\n"
     ]
    }
   ],
   "source": [
    "# 딕셔너리 언팩킹\n",
    "data = {'name': 'Alice', 'age': 30}\n",
    "print(data['name']) # 출력: Alice"
   ]
  },
  {
   "cell_type": "code",
   "execution_count": 9,
   "id": "2e30cd92",
   "metadata": {},
   "outputs": [
    {
     "name": "stdout",
     "output_type": "stream",
     "text": [
      "Hello, my name is Alice and I am 30 years old.\n",
      "Hello, my name is Alice and I am 30 years old.\n"
     ]
    }
   ],
   "source": [
    "# 함수 정의\n",
    "def greet(name, age):\n",
    "  print(f\"Hello, my name is {name} and I am {age} years old.\")\n",
    "  \n",
    "# 딕셔너리 언팩킹을 사용한 함수 호출\n",
    "greet(**data) # 출력: Hello, my name is Alice and I am 30 years old.\n",
    "\n",
    "greet(name='Alice', age=30)"
   ]
  },
  {
   "cell_type": "code",
   "execution_count": null,
   "id": "48528f86",
   "metadata": {},
   "outputs": [
    {
     "name": "stdout",
     "output_type": "stream",
     "text": [
      "[1, 2, 3, 4, 5, 6]\n"
     ]
    }
   ],
   "source": [
    "list1 = [1, 2, 3]\n",
    "list2 = [4, 5, 6]\n",
    "combined = [*list1, *list2] # 리스트 언팩킹\n",
    "# combined = [1,2,3, 4,5,6]\n",
    "print(combined) # 출력: [1, 2, 3, 4, 5, 6]"
   ]
  },
  {
   "cell_type": "code",
   "execution_count": null,
   "id": "4b935447",
   "metadata": {},
   "outputs": [
    {
     "name": "stdout",
     "output_type": "stream",
     "text": [
      "{'a': 1, 'b': 3, 'c': 4}\n"
     ]
    },
    {
     "ename": "",
     "evalue": "",
     "output_type": "error",
     "traceback": [
      "\u001b[1;31mThe Kernel crashed while executing code in the current cell or a previous cell. \n",
      "\u001b[1;31mPlease review the code in the cell(s) to identify a possible cause of the failure. \n",
      "\u001b[1;31mClick <a href='https://aka.ms/vscodeJupyterKernelCrash'>here</a> for more info. \n",
      "\u001b[1;31mView Jupyter <a href='command:jupyter.viewOutput'>log</a> for further details."
     ]
    }
   ],
   "source": [
    "dict1 = {'a': 1, 'b': 2}\n",
    "dict2 = {'b': 3, 'c': 4}\n",
    "combined_dict = {**dict1, **dict2} # 딕셔너리 언팩킹\n",
    "combined_dict = {'a':1,'b':2, 'b':3, 'c':4}\n",
    "print(combined_dict) # 출력: {'a': 1, 'b': 3, 'c': 4}"
   ]
  },
  {
   "cell_type": "code",
   "execution_count": null,
   "id": "ae80ac9c",
   "metadata": {},
   "outputs": [],
   "source": []
  }
 ],
 "metadata": {
  "kernelspec": {
   "display_name": "base",
   "language": "python",
   "name": "python3"
  },
  "language_info": {
   "codemirror_mode": {
    "name": "ipython",
    "version": 3
   },
   "file_extension": ".py",
   "mimetype": "text/x-python",
   "name": "python",
   "nbconvert_exporter": "python",
   "pygments_lexer": "ipython3",
   "version": "3.12.7"
  }
 },
 "nbformat": 4,
 "nbformat_minor": 5
}
