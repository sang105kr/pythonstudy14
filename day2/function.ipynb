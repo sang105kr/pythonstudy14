{
 "cells": [
  {
   "cell_type": "code",
   "execution_count": 4,
   "id": "e30146ef",
   "metadata": {},
   "outputs": [],
   "source": [
    "def add(num1, num2=100):\n",
    "  return num1 + num2"
   ]
  },
  {
   "cell_type": "code",
   "execution_count": 9,
   "id": "a6649c63",
   "metadata": {},
   "outputs": [
    {
     "name": "stdout",
     "output_type": "stream",
     "text": [
      "30\n"
     ]
    }
   ],
   "source": [
    "# 위지 지정 방식\n",
    "print(add(10,20))"
   ]
  },
  {
   "cell_type": "code",
   "execution_count": 10,
   "id": "d3bc55a7",
   "metadata": {},
   "outputs": [
    {
     "name": "stdout",
     "output_type": "stream",
     "text": [
      "110\n"
     ]
    }
   ],
   "source": [
    "print(add(10))"
   ]
  },
  {
   "cell_type": "code",
   "execution_count": 11,
   "id": "a2e06c75",
   "metadata": {},
   "outputs": [
    {
     "name": "stdout",
     "output_type": "stream",
     "text": [
      "30\n"
     ]
    }
   ],
   "source": [
    "# 키워드 지정 방식\n",
    "print(add(num2=20, num1=10))"
   ]
  },
  {
   "cell_type": "code",
   "execution_count": null,
   "id": "825274e2",
   "metadata": {},
   "outputs": [],
   "source": [
    "# 가변 위치 매개변수(Variable Positional Parameters) : 함수내에서 튜플객체로 다뤄짐\n",
    "def add2(*values):\n",
    "  sum = 0\n",
    "  for ele in values:\n",
    "    sum += ele\n",
    "  return sum\n",
    "  "
   ]
  },
  {
   "cell_type": "code",
   "execution_count": 16,
   "id": "b5cfd4c5",
   "metadata": {},
   "outputs": [
    {
     "name": "stdout",
     "output_type": "stream",
     "text": [
      "6\n",
      "100\n",
      "16.5\n"
     ]
    }
   ],
   "source": [
    "print(add2(1,2,3))\n",
    "print(add2(10,20,30,40))\n",
    "print(add2(1.1, 2.2, 3.3, 4.4, 5.5))"
   ]
  },
  {
   "cell_type": "code",
   "execution_count": null,
   "id": "e5d93f49",
   "metadata": {},
   "outputs": [],
   "source": [
    "# 가변 키워드 매개변수(Variable Keyword Parameters) : 함수내에서 딕셔너리 객체로 다뤄짐\n",
    "def makePerson(**attr):\n",
    "  # person = {'name':'이름','age':'나이' ,'address':'주소'}\n",
    "  # person.update(attr)\n",
    "  # return person\n",
    "  return attr\n"
   ]
  },
  {
   "cell_type": "code",
   "execution_count": 24,
   "id": "0260288f",
   "metadata": {},
   "outputs": [
    {
     "name": "stdout",
     "output_type": "stream",
     "text": [
      "{'name': '홍길동', 'age': 20, 'address': '부산', 'gender': '남'}\n"
     ]
    }
   ],
   "source": [
    "print(makePerson(name='홍길동',age=20,address='부산',gender='남'))"
   ]
  },
  {
   "cell_type": "code",
   "execution_count": null,
   "id": "471bf806",
   "metadata": {},
   "outputs": [],
   "source": [
    "class StudentGrades:\n",
    "  \n",
    "  # 생성자 메소드\n",
    "  def __init__(self):\n",
    "    self.grades = {} # 학생 성적을 저장할 딕셔너리\n",
    "    \n",
    "  # 일반 메소드\n",
    "  def add_student(self, name, **kwargs):\n",
    "    '''학생의 성적 추가 '''\n",
    "    self.grades[name] = kwargs\n",
    "    \n",
    "  def get_student_grades(self, name):\n",
    "    '''특정 학생의 성적을 조회'''\n",
    "    return self.grades.get(name, \"학생이 존재하지 않습니다.\")\n",
    "  \n",
    "  def print_all_grades(self):\n",
    "    '''모든 학생의 성적을 출력'''\n",
    "    for name, subjects in self.grades.items():\n",
    "      print(f'{name}: {subjects}')"
   ]
  },
  {
   "cell_type": "code",
   "execution_count": 30,
   "id": "8820d41f",
   "metadata": {},
   "outputs": [],
   "source": [
    "grades_manager = StudentGrades()  # 객체 생성"
   ]
  },
  {
   "cell_type": "code",
   "execution_count": 31,
   "id": "4aba9c4a",
   "metadata": {},
   "outputs": [],
   "source": [
    "# 학생추가\n",
    "grades_manager.add_student(\"홍길동\", math=90, eng=80, kor=70)\n",
    "grades_manager.add_student('홍길순',math=85, eng=70)"
   ]
  },
  {
   "cell_type": "code",
   "execution_count": 35,
   "id": "651e744e",
   "metadata": {},
   "outputs": [
    {
     "name": "stdout",
     "output_type": "stream",
     "text": [
      "{'math': 90, 'eng': 80, 'kor': 70}\n",
      "{'math': 85, 'eng': 70}\n",
      "학생이 존재하지 않습니다.\n"
     ]
    }
   ],
   "source": [
    "# 특정학생 성적 조회\n",
    "print(grades_manager.get_student_grades(\"홍길동\"))\n",
    "print(grades_manager.get_student_grades(\"홍길순\"))\n",
    "print(grades_manager.get_student_grades(\"홍길북\"))\n"
   ]
  },
  {
   "cell_type": "code",
   "execution_count": 33,
   "id": "a2fd5b65",
   "metadata": {},
   "outputs": [
    {
     "name": "stdout",
     "output_type": "stream",
     "text": [
      "홍길동: {'math': 90, 'eng': 80, 'kor': 70}\n",
      "홍길순: {'math': 85, 'eng': 70}\n"
     ]
    }
   ],
   "source": [
    "# 모든학생 출력\n",
    "grades_manager.print_all_grades()"
   ]
  },
  {
   "cell_type": "code",
   "execution_count": 44,
   "id": "fa4537f8",
   "metadata": {},
   "outputs": [
    {
     "name": "stdout",
     "output_type": "stream",
     "text": [
      "Help on function add_student in module __main__:\n",
      "\n",
      "add_student(self, name, **kwargs)\n",
      "    학생의 성적 추가\n",
      "\n",
      "Help on method add_student in module __main__:\n",
      "\n",
      "add_student(name, **kwargs) method of __main__.StudentGrades instance\n",
      "    학생의 성적 추가\n",
      "\n"
     ]
    }
   ],
   "source": [
    "help(StudentGrades.add_student)\n",
    "help(grades_manager.add_student)"
   ]
  },
  {
   "cell_type": "code",
   "execution_count": 54,
   "id": "c235bb55",
   "metadata": {},
   "outputs": [
    {
     "name": "stdout",
     "output_type": "stream",
     "text": [
      "\u001b[1;31mSignature:\u001b[0m \u001b[0mStudentGrades\u001b[0m\u001b[1;33m.\u001b[0m\u001b[0madd_student\u001b[0m\u001b[1;33m(\u001b[0m\u001b[0mself\u001b[0m\u001b[1;33m,\u001b[0m \u001b[0mname\u001b[0m\u001b[1;33m,\u001b[0m \u001b[1;33m**\u001b[0m\u001b[0mkwargs\u001b[0m\u001b[1;33m)\u001b[0m\u001b[1;33m\u001b[0m\u001b[1;33m\u001b[0m\u001b[0m\n",
      "\u001b[1;31mDocstring:\u001b[0m 학생의 성적 추가 \n",
      "\u001b[1;31mFile:\u001b[0m      c:\\users\\user\\appdata\\local\\temp\\ipykernel_26104\\2147484315.py\n",
      "\u001b[1;31mType:\u001b[0m      function"
     ]
    }
   ],
   "source": [
    "StudentGrades.add_student?\n",
    "# grades_manager.add_student?"
   ]
  },
  {
   "cell_type": "code",
   "execution_count": 55,
   "id": "f0d4265f",
   "metadata": {},
   "outputs": [
    {
     "name": "stdout",
     "output_type": "stream",
     "text": [
      "학생의 성적 추가 \n",
      "학생의 성적 추가 \n"
     ]
    }
   ],
   "source": [
    "print(StudentGrades.add_student.__doc__)\n",
    "print(grades_manager.add_student.__doc__)"
   ]
  },
  {
   "cell_type": "code",
   "execution_count": 58,
   "id": "9fece580",
   "metadata": {},
   "outputs": [],
   "source": [
    "def add3(num1, num2):\n",
    "  return num1 + num2"
   ]
  },
  {
   "cell_type": "code",
   "execution_count": 61,
   "id": "68e7eae2",
   "metadata": {},
   "outputs": [
    {
     "name": "stdout",
     "output_type": "stream",
     "text": [
      "30\n",
      "200\n"
     ]
    }
   ],
   "source": [
    "print(add3(10,20))\n",
    "print(add3(num2=100,num1=100))"
   ]
  },
  {
   "cell_type": "code",
   "execution_count": 68,
   "id": "e355c43d",
   "metadata": {},
   "outputs": [],
   "source": [
    "# 키워드 전용 매개변수(Keyword-only Arguments)\n",
    "def add4(*,num1, num2):\n",
    "  return num1 + num2"
   ]
  },
  {
   "cell_type": "code",
   "execution_count": 69,
   "id": "3e0a1761",
   "metadata": {},
   "outputs": [
    {
     "name": "stdout",
     "output_type": "stream",
     "text": [
      "30\n"
     ]
    }
   ],
   "source": [
    "# print(add4(10,20))\n",
    "print(add4(num1=10,num2=20))"
   ]
  },
  {
   "cell_type": "code",
   "execution_count": 70,
   "id": "eb0e2c48",
   "metadata": {},
   "outputs": [],
   "source": [
    "#위치 전용 매개변수(Positional-only Parameters)\n",
    "def add5(num1, num2,/):\n",
    "  return num1 + num2"
   ]
  },
  {
   "cell_type": "code",
   "execution_count": 76,
   "id": "eb4acdc2",
   "metadata": {},
   "outputs": [
    {
     "name": "stdout",
     "output_type": "stream",
     "text": [
      "30\n"
     ]
    }
   ],
   "source": [
    "print(add5(10,20))\n",
    "# print(add5(num1=10,num2=20))"
   ]
  },
  {
   "cell_type": "code",
   "execution_count": 77,
   "id": "03aac460",
   "metadata": {},
   "outputs": [],
   "source": [
    "def f (a,b,/,c,d,*,e,f):\n",
    "  pass"
   ]
  },
  {
   "cell_type": "code",
   "execution_count": 79,
   "id": "18731ede",
   "metadata": {},
   "outputs": [],
   "source": [
    "f(1,2,3,4,e=10,f=20)"
   ]
  },
  {
   "cell_type": "code",
   "execution_count": 80,
   "id": "d9f3b2b9",
   "metadata": {},
   "outputs": [],
   "source": [
    "f(1,2,c=1,d=2,e=10,f=20)"
   ]
  },
  {
   "cell_type": "code",
   "execution_count": 81,
   "id": "41674c02",
   "metadata": {},
   "outputs": [
    {
     "name": "stdout",
     "output_type": "stream",
     "text": [
      "Help on built-in function sorted in module builtins:\n",
      "\n",
      "sorted(iterable, /, *, key=None, reverse=False)\n",
      "    Return a new list containing all items from the iterable in ascending order.\n",
      "\n",
      "    A custom key function can be supplied to customize the sort order, and the\n",
      "    reverse flag can be set to request the result in descending order.\n",
      "\n"
     ]
    }
   ],
   "source": [
    "help(sorted)"
   ]
  },
  {
   "cell_type": "code",
   "execution_count": 82,
   "id": "70c35002",
   "metadata": {},
   "outputs": [],
   "source": [
    "list = [3,1,4,2]"
   ]
  },
  {
   "cell_type": "code",
   "execution_count": 83,
   "id": "8265b29b",
   "metadata": {},
   "outputs": [
    {
     "data": {
      "text/plain": [
       "[1, 2, 3, 4]"
      ]
     },
     "execution_count": 83,
     "metadata": {},
     "output_type": "execute_result"
    }
   ],
   "source": [
    "sorted(list)"
   ]
  },
  {
   "cell_type": "code",
   "execution_count": 87,
   "id": "6fd10bd8",
   "metadata": {},
   "outputs": [
    {
     "data": {
      "text/plain": [
       "[4, 3, 2, 1]"
      ]
     },
     "execution_count": 87,
     "metadata": {},
     "output_type": "execute_result"
    }
   ],
   "source": [
    "sorted(list,reverse=True)"
   ]
  },
  {
   "cell_type": "code",
   "execution_count": 88,
   "id": "7c316859",
   "metadata": {},
   "outputs": [],
   "source": [
    "data = [('홍길동',20),('홍길서',30),('홍길남',40)]"
   ]
  },
  {
   "cell_type": "code",
   "execution_count": null,
   "id": "47766ff4",
   "metadata": {},
   "outputs": [
    {
     "data": {
      "text/plain": [
       "[('홍길서', 30), ('홍길동', 20), ('홍길남', 40)]"
      ]
     },
     "execution_count": 101,
     "metadata": {},
     "output_type": "execute_result"
    },
    {
     "ename": "",
     "evalue": "",
     "output_type": "error",
     "traceback": [
      "\u001b[1;31mThe Kernel crashed while executing code in the current cell or a previous cell. \n",
      "\u001b[1;31mPlease review the code in the cell(s) to identify a possible cause of the failure. \n",
      "\u001b[1;31mClick <a href='https://aka.ms/vscodeJupyterKernelCrash'>here</a> for more info. \n",
      "\u001b[1;31mView Jupyter <a href='command:jupyter.viewOutput'>log</a> for further details."
     ]
    }
   ],
   "source": [
    "# key매개변수를 사용하여 두번째 요소를 기준으로 정렬\n",
    "sorted(data,key=lambda ele:ele[0],reverse=True)"
   ]
  },
  {
   "cell_type": "code",
   "execution_count": 98,
   "id": "f0237144",
   "metadata": {},
   "outputs": [
    {
     "data": {
      "text/plain": [
       "20"
      ]
     },
     "execution_count": 98,
     "metadata": {},
     "output_type": "execute_result"
    }
   ],
   "source": [
    "('홍길동',20)[1]"
   ]
  },
  {
   "cell_type": "code",
   "execution_count": null,
   "id": "d64eb99f",
   "metadata": {},
   "outputs": [],
   "source": []
  }
 ],
 "metadata": {
  "kernelspec": {
   "display_name": "base",
   "language": "python",
   "name": "python3"
  },
  "language_info": {
   "codemirror_mode": {
    "name": "ipython",
    "version": 3
   },
   "file_extension": ".py",
   "mimetype": "text/x-python",
   "name": "python",
   "nbconvert_exporter": "python",
   "pygments_lexer": "ipython3",
   "version": "3.12.7"
  }
 },
 "nbformat": 4,
 "nbformat_minor": 5
}
