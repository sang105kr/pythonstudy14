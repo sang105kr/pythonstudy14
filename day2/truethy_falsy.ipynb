{
 "cells": [
  {
   "cell_type": "code",
   "execution_count": 1,
   "id": "2a493a9d",
   "metadata": {},
   "outputs": [
    {
     "name": "stdout",
     "output_type": "stream",
     "text": [
      "참\n"
     ]
    }
   ],
   "source": [
    "if True:\n",
    "  print('참')"
   ]
  },
  {
   "cell_type": "code",
   "execution_count": 8,
   "id": "1ee959a8",
   "metadata": {},
   "outputs": [
    {
     "name": "stdout",
     "output_type": "stream",
     "text": [
      "참\n",
      "거짓\n"
     ]
    }
   ],
   "source": [
    "# 숫자가 0 이면 False로 간주, \n",
    "# 숫자가 0 이 아니면 True로 간주 \n",
    "if 3 :\n",
    "  print('참')\n",
    "if not 0 :\n",
    "  print('거짓')"
   ]
  },
  {
   "cell_type": "code",
   "execution_count": 11,
   "id": "7d882472",
   "metadata": {},
   "outputs": [
    {
     "name": "stdout",
     "output_type": "stream",
     "text": [
      "True\n"
     ]
    }
   ],
   "source": [
    "# None 는 False로 간주\n",
    "if None :\n",
    "  print('False')\n",
    "if not None :\n",
    "  print('True')  "
   ]
  },
  {
   "cell_type": "code",
   "execution_count": 13,
   "id": "011f39b6",
   "metadata": {},
   "outputs": [
    {
     "name": "stdout",
     "output_type": "stream",
     "text": [
      "True\n"
     ]
    }
   ],
   "source": [
    "# 빈문자열은 False로 간주, 내용이 있으면 True로 간주\n",
    "if \"\" :\n",
    "  print('False')\n",
    "if \" \" or \"abc\" :\n",
    "  print('True')\n",
    "  "
   ]
  },
  {
   "cell_type": "code",
   "execution_count": null,
   "id": "cef03501",
   "metadata": {},
   "outputs": [
    {
     "name": "stdout",
     "output_type": "stream",
     "text": [
      "True\n"
     ]
    },
    {
     "ename": "",
     "evalue": "",
     "output_type": "error",
     "traceback": [
      "\u001b[1;31mThe Kernel crashed while executing code in the current cell or a previous cell. \n",
      "\u001b[1;31mPlease review the code in the cell(s) to identify a possible cause of the failure. \n",
      "\u001b[1;31mClick <a href='https://aka.ms/vscodeJupyterKernelCrash'>here</a> for more info. \n",
      "\u001b[1;31mView Jupyter <a href='command:jupyter.viewOutput'>log</a> for further details."
     ]
    }
   ],
   "source": [
    "# iterable 객체에 요소가 없으면 False, 있으면 True\n",
    "if [] or () or {}:\n",
    "  print('False')\n",
    "if [1,2,3] or (1,2,3) or {1,2,3} or { 'name':'홍길동', 'age':20}:\n",
    "  print('True')  \n",
    "  "
   ]
  },
  {
   "cell_type": "code",
   "execution_count": null,
   "id": "8eb6eb96",
   "metadata": {},
   "outputs": [],
   "source": []
  }
 ],
 "metadata": {
  "kernelspec": {
   "display_name": "base",
   "language": "python",
   "name": "python3"
  },
  "language_info": {
   "codemirror_mode": {
    "name": "ipython",
    "version": 3
   },
   "file_extension": ".py",
   "mimetype": "text/x-python",
   "name": "python",
   "nbconvert_exporter": "python",
   "pygments_lexer": "ipython3",
   "version": "3.12.7"
  }
 },
 "nbformat": 4,
 "nbformat_minor": 5
}
