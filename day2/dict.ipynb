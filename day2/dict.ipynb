{
 "cells": [
  {
   "cell_type": "code",
   "execution_count": 1,
   "id": "811d4782",
   "metadata": {},
   "outputs": [],
   "source": [
    "person = {\n",
    "  'name':'홍길동',\n",
    "  'age': 20,\n",
    "  'address' : '부산'\n",
    "}"
   ]
  },
  {
   "cell_type": "code",
   "execution_count": 9,
   "id": "cdd04b2e",
   "metadata": {},
   "outputs": [
    {
     "data": {
      "text/plain": [
       "dict_keys(['name', 'age', 'address'])"
      ]
     },
     "execution_count": 9,
     "metadata": {},
     "output_type": "execute_result"
    }
   ],
   "source": [
    "person.keys()"
   ]
  },
  {
   "cell_type": "code",
   "execution_count": 5,
   "id": "6163a1d9",
   "metadata": {},
   "outputs": [
    {
     "data": {
      "text/plain": [
       "dict_values(['홍길동', 20, '부산'])"
      ]
     },
     "execution_count": 5,
     "metadata": {},
     "output_type": "execute_result"
    }
   ],
   "source": [
    "person.values()"
   ]
  },
  {
   "cell_type": "code",
   "execution_count": 6,
   "id": "40119924",
   "metadata": {},
   "outputs": [
    {
     "data": {
      "text/plain": [
       "dict_items([('name', '홍길동'), ('age', 20), ('address', '부산')])"
      ]
     },
     "execution_count": 6,
     "metadata": {},
     "output_type": "execute_result"
    }
   ],
   "source": [
    "person.items()"
   ]
  },
  {
   "cell_type": "code",
   "execution_count": 10,
   "id": "9b94f9fc",
   "metadata": {},
   "outputs": [
    {
     "name": "stdout",
     "output_type": "stream",
     "text": [
      "name\n",
      "age\n",
      "address\n"
     ]
    }
   ],
   "source": [
    "for ele in person.keys():\n",
    "  print(ele)"
   ]
  },
  {
   "cell_type": "code",
   "execution_count": 11,
   "id": "2e579047",
   "metadata": {},
   "outputs": [
    {
     "name": "stdout",
     "output_type": "stream",
     "text": [
      "홍길동\n",
      "20\n",
      "부산\n"
     ]
    }
   ],
   "source": [
    "for ele in person.values():\n",
    "  print(ele)"
   ]
  },
  {
   "cell_type": "code",
   "execution_count": 12,
   "id": "c102dc9f",
   "metadata": {},
   "outputs": [
    {
     "name": "stdout",
     "output_type": "stream",
     "text": [
      "('name', '홍길동')\n",
      "('age', 20)\n",
      "('address', '부산')\n"
     ]
    }
   ],
   "source": [
    "for ele in person.items():\n",
    "  print(ele)"
   ]
  },
  {
   "cell_type": "code",
   "execution_count": 13,
   "id": "5f2a1b68",
   "metadata": {},
   "outputs": [
    {
     "name": "stdout",
     "output_type": "stream",
     "text": [
      "10 20\n",
      "10 20\n"
     ]
    }
   ],
   "source": [
    "x, y = (10,20)\n",
    "print(x,y)\n",
    "x, y = [10,20]\n",
    "print(x,y)"
   ]
  },
  {
   "cell_type": "code",
   "execution_count": 14,
   "id": "2c09b365",
   "metadata": {},
   "outputs": [
    {
     "name": "stdout",
     "output_type": "stream",
     "text": [
      "name 홍길동\n",
      "age 20\n",
      "address 부산\n"
     ]
    }
   ],
   "source": [
    "for key, value in person.items():\n",
    "  print(key, value)"
   ]
  },
  {
   "cell_type": "code",
   "execution_count": 15,
   "id": "c177c23b",
   "metadata": {},
   "outputs": [
    {
     "data": {
      "text/plain": [
       "'홍길동'"
      ]
     },
     "execution_count": 15,
     "metadata": {},
     "output_type": "execute_result"
    }
   ],
   "source": [
    "person['name']"
   ]
  },
  {
   "cell_type": "code",
   "execution_count": 16,
   "id": "de2e4843",
   "metadata": {},
   "outputs": [
    {
     "data": {
      "text/plain": [
       "20"
      ]
     },
     "execution_count": 16,
     "metadata": {},
     "output_type": "execute_result"
    }
   ],
   "source": [
    "person['age']"
   ]
  },
  {
   "cell_type": "code",
   "execution_count": 17,
   "id": "2d01ccec",
   "metadata": {},
   "outputs": [
    {
     "data": {
      "text/plain": [
       "'부산'"
      ]
     },
     "execution_count": 17,
     "metadata": {},
     "output_type": "execute_result"
    }
   ],
   "source": [
    "person['address']"
   ]
  },
  {
   "cell_type": "code",
   "execution_count": 18,
   "id": "3b18fb65",
   "metadata": {},
   "outputs": [],
   "source": [
    "person['name'] = '홍길순'"
   ]
  },
  {
   "cell_type": "code",
   "execution_count": 19,
   "id": "4c836602",
   "metadata": {},
   "outputs": [
    {
     "data": {
      "text/plain": [
       "{'name': '홍길순', 'age': 20, 'address': '부산'}"
      ]
     },
     "execution_count": 19,
     "metadata": {},
     "output_type": "execute_result"
    }
   ],
   "source": [
    "person"
   ]
  },
  {
   "cell_type": "code",
   "execution_count": 20,
   "id": "613af901",
   "metadata": {},
   "outputs": [],
   "source": [
    "person['gender'] = '여자'"
   ]
  },
  {
   "cell_type": "code",
   "execution_count": 21,
   "id": "24489b24",
   "metadata": {},
   "outputs": [
    {
     "data": {
      "text/plain": [
       "{'name': '홍길순', 'age': 20, 'address': '부산', 'gender': '여자'}"
      ]
     },
     "execution_count": 21,
     "metadata": {},
     "output_type": "execute_result"
    }
   ],
   "source": [
    "person"
   ]
  },
  {
   "cell_type": "code",
   "execution_count": 22,
   "id": "89ce54cc",
   "metadata": {},
   "outputs": [],
   "source": [
    "tmp = {'name': '이름', 'age': '나이', 'address': '주소', 'gender': '성별'}"
   ]
  },
  {
   "cell_type": "code",
   "execution_count": 23,
   "id": "1fc4749d",
   "metadata": {},
   "outputs": [],
   "source": [
    "person.update(tmp)"
   ]
  },
  {
   "cell_type": "code",
   "execution_count": 24,
   "id": "af51924d",
   "metadata": {},
   "outputs": [
    {
     "data": {
      "text/plain": [
       "{'name': '이름', 'age': '나이', 'address': '주소', 'gender': '성별'}"
      ]
     },
     "execution_count": 24,
     "metadata": {},
     "output_type": "execute_result"
    }
   ],
   "source": [
    "person"
   ]
  },
  {
   "cell_type": "code",
   "execution_count": 25,
   "id": "5f0bfc2e",
   "metadata": {},
   "outputs": [],
   "source": [
    "person['hobby'] = ['reading','swiming','golf']"
   ]
  },
  {
   "cell_type": "code",
   "execution_count": null,
   "id": "9fe69fb0",
   "metadata": {},
   "outputs": [
    {
     "data": {
      "text/plain": [
       "{'name': '이름',\n",
       " 'age': '나이',\n",
       " 'address': '주소',\n",
       " 'gender': '성별',\n",
       " 'hobby': ['reading', 'swiming', 'golf']}"
      ]
     },
     "execution_count": 26,
     "metadata": {},
     "output_type": "execute_result"
    },
    {
     "ename": "",
     "evalue": "",
     "output_type": "error",
     "traceback": [
      "\u001b[1;31mThe Kernel crashed while executing code in the current cell or a previous cell. \n",
      "\u001b[1;31mPlease review the code in the cell(s) to identify a possible cause of the failure. \n",
      "\u001b[1;31mClick <a href='https://aka.ms/vscodeJupyterKernelCrash'>here</a> for more info. \n",
      "\u001b[1;31mView Jupyter <a href='command:jupyter.viewOutput'>log</a> for further details."
     ]
    }
   ],
   "source": [
    "person"
   ]
  },
  {
   "cell_type": "code",
   "execution_count": null,
   "id": "9242f3e9",
   "metadata": {},
   "outputs": [],
   "source": []
  }
 ],
 "metadata": {
  "kernelspec": {
   "display_name": "base",
   "language": "python",
   "name": "python3"
  },
  "language_info": {
   "codemirror_mode": {
    "name": "ipython",
    "version": 3
   },
   "file_extension": ".py",
   "mimetype": "text/x-python",
   "name": "python",
   "nbconvert_exporter": "python",
   "pygments_lexer": "ipython3",
   "version": "3.12.7"
  }
 },
 "nbformat": 4,
 "nbformat_minor": 5
}
