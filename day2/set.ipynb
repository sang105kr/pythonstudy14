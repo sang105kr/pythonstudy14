{
 "cells": [
  {
   "cell_type": "code",
   "execution_count": 11,
   "id": "50e49397",
   "metadata": {},
   "outputs": [],
   "source": [
    "# 집합객체 생성\n",
    "set_a = {1,2,3,4}\n",
    "set_b = {3,4,5,6}"
   ]
  },
  {
   "cell_type": "code",
   "execution_count": 12,
   "id": "4c23c4b9",
   "metadata": {},
   "outputs": [
    {
     "name": "stdout",
     "output_type": "stream",
     "text": [
      "{1, 2, 3, 4, 5, 6}\n",
      "{1, 2, 3, 4, 5, 6}\n"
     ]
    }
   ],
   "source": [
    "# 합집합\n",
    "# 메소드사용\n",
    "union_set = set_a.union(set_b)\n",
    "# 연산자사용\n",
    "union_set_operator = set_a | set_b\n",
    "print(union_set)\n",
    "print(union_set_operator)"
   ]
  },
  {
   "cell_type": "code",
   "execution_count": 13,
   "id": "f10ef299",
   "metadata": {},
   "outputs": [
    {
     "name": "stdout",
     "output_type": "stream",
     "text": [
      "{3, 4}\n",
      "{3, 4}\n"
     ]
    }
   ],
   "source": [
    "# 교집합\n",
    "# 메소드사용\n",
    "union_set = set_a.intersection(set_b)\n",
    "# 연산자사용\n",
    "union_set_operator = set_a & set_b\n",
    "print(union_set)\n",
    "print(union_set_operator)"
   ]
  },
  {
   "cell_type": "code",
   "execution_count": 14,
   "id": "ec4c40d8",
   "metadata": {},
   "outputs": [
    {
     "name": "stdout",
     "output_type": "stream",
     "text": [
      "{1, 2}\n",
      "{1, 2}\n"
     ]
    }
   ],
   "source": [
    "# 차집합\n",
    "# 메소드사용\n",
    "union_set = set_a.difference(set_b)\n",
    "# 연산자사용\n",
    "union_set_operator = set_a - set_b\n",
    "print(union_set)\n",
    "print(union_set_operator)"
   ]
  },
  {
   "cell_type": "code",
   "execution_count": null,
   "id": "8e1310f7",
   "metadata": {},
   "outputs": [
    {
     "name": "stdout",
     "output_type": "stream",
     "text": [
      "{1, 2, 5, 6}\n",
      "{1, 2, 5, 6}\n"
     ]
    },
    {
     "ename": "",
     "evalue": "",
     "output_type": "error",
     "traceback": [
      "\u001b[1;31mThe Kernel crashed while executing code in the current cell or a previous cell. \n",
      "\u001b[1;31mPlease review the code in the cell(s) to identify a possible cause of the failure. \n",
      "\u001b[1;31mClick <a href='https://aka.ms/vscodeJupyterKernelCrash'>here</a> for more info. \n",
      "\u001b[1;31mView Jupyter <a href='command:jupyter.viewOutput'>log</a> for further details."
     ]
    }
   ],
   "source": [
    "# 대칭 차집합\n",
    "# 메소드사용\n",
    "union_set = set_a.symmetric_difference(set_b)\n",
    "# 연산자사용\n",
    "union_set_operator = set_a ^ set_b\n",
    "print(union_set)\n",
    "print(union_set_operator)"
   ]
  },
  {
   "cell_type": "code",
   "execution_count": null,
   "id": "f1a4674c",
   "metadata": {},
   "outputs": [],
   "source": []
  }
 ],
 "metadata": {
  "kernelspec": {
   "display_name": "base",
   "language": "python",
   "name": "python3"
  },
  "language_info": {
   "codemirror_mode": {
    "name": "ipython",
    "version": 3
   },
   "file_extension": ".py",
   "mimetype": "text/x-python",
   "name": "python",
   "nbconvert_exporter": "python",
   "pygments_lexer": "ipython3",
   "version": "3.12.7"
  }
 },
 "nbformat": 4,
 "nbformat_minor": 5
}
